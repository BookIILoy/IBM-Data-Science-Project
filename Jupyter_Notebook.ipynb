{
 "cells": [
  {
   "cell_type": "markdown",
   "metadata": {},
   "source": [
    "<center>\n",
    "    <img src=\"https://cf-courses-data.s3.us.cloud-object-storage.appdomain.cloud/IBMDeveloperSkillsNetwork-DS0105EN-SkillsNetwork/labs/Module2/images/SN_web_lightmode.png\" width=\"300\" alt=\"cognitiveclass.ai logo\">\n",
    "</center>\n"
   ]
  },
  {
   "cell_type": "markdown",
   "metadata": {},
   "source": [
    "#### Add your code below following the instructions given in the course\n"
   ]
  },
  {
   "cell_type": "markdown",
   "metadata": {},
   "source": [
    "# Create My Jupyter Notebook"
   ]
  },
  {
   "cell_type": "markdown",
   "metadata": {},
   "source": [
    "## Introdiction"
   ]
  },
  {
   "cell_type": "markdown",
   "metadata": {},
   "source": [
    "### List data science languages\n",
    "- Python\n",
    "- R\n",
    "- SQL\n",
    "- Julia\n",
    "- Java\n",
    "- Scala\n",
    "- MATLAB\n",
    "- SAS(Statistical Analysis System)\n",
    "- Haskell"
   ]
  },
  {
   "cell_type": "markdown",
   "metadata": {},
   "source": [
    "### List data science libraries\n",
    "1. NumPy\n",
    "2. Pandas\n",
    "3. Matplotlib\n",
    "4. Seaborn\n",
    "5. Scikit-learn\n",
    "6. TensorFlow\n",
    "7. Keras\n",
    "8. PyTorch\n",
    "9. Statsmodels\n",
    "10. NLTK(Natural Language Toolkit)\n",
    "11. SciPy\n",
    "12. Beautiful Soup\n",
    "13. Plotly\n",
    "14. OpenCV"
   ]
  },
  {
   "cell_type": "markdown",
   "metadata": {
    "tags": []
   },
   "source": [
    "### Table of Data Science tools\n",
    "| Category | Tool | Description |\n",
    "| ------ | ------ | ------ |\n",
    "| Programming Languages | Python | General-purpose language with rich libraries for data science. |\n",
    "| | R | Specifically designed for statistical computing and graphics. |\n",
    "| | SQL | Query language for managing and manipulating relational databases. |\n",
    "| Data Manipulation & Analysis | Pandas | Data manipulation and analysis library for Python. |\n",
    "| | NumPy | Numerical computing library for Python. |\n",
    "| | dplyr (R) | Data manipulation library in R. |\n",
    "| Visualization | Matplotlib | 2D plotting library for Python. |\n",
    "| | Seaborn | Statistical data visualization library based on Matplotlib. |\n",
    "| | ggplot2 (R) | Grammar of Graphics-based plotting system in R. |\n",
    "| | Tableau | Business intelligence tool for creating interactive visualizations. |\n",
    "| Machine Learning | Scikit-learn | Machine learning library for Python. |\n",
    "| | TensorFlow | Open-source machine learning framework developed by Google. |\n",
    "| | PyTorch | Open-source deep learning library known for its dynamic computation graph. |\n",
    "| | caret (R) | Classification and regression training library in R. |\n",
    "| Big Data Processing | Apache Spark | Open-source distributed computing system for big data processing. |\n",
    "| | Hadoop | Framework for distributed storage and processing of large data sets. |\n",
    "| Database Management | MySQL | Open-source relational database management system. |\n",
    "| | PostgreSQL | Object-relational database system. |\n",
    "| | MongoDB | NoSQL database for handling large volumes of data in a flexible format. |\n",
    "| Text and NLP | NLTK |  Natural Language Toolkit for working with human language data in Python. |\n",
    "| | SpaCy | Industrial-strength natural language processing library in Python. |\n",
    "| | Gensim | Library for topic modeling and document similarity analysis. |\n",
    "| Web Scraping | Beautiful Soup | Python library for pulling data out of HTML and XML files. |\n",
    "| | Scrapy | Open-source web crawling framework for Python. |\n",
    "| Version Control | Git | Distributed version control system for tracking changes in source code. |\n",
    "| | GitHub | Web-based platform for version control and collaboration using Git. |\n",
    "| Integrated Development Environments (IDEs) | Jupyter Notebook | Web-based interactive computing environment for creating and sharing documents.|\n",
    "| | RStudio | IDE for R with tools for data analysis and visualization. |\n",
    "| | VS Code | Lightweight, open-source code editor with support for various languages. |"
   ]
  },
  {
   "cell_type": "markdown",
   "metadata": {},
   "source": [
    "# Arithmetic Expression Examples\n",
    "\n",
    "Arithmetic expressions involve mathematical operations and are fundamental in quantitative analysis and computation. These expressions use basic operators such as addition, subtraction, multiplication, and division to perform calculations. In this context, variables and constants are combined to create mathematical statements.\n",
    "\n",
    "Here are some examples of arithmetic expressions:\n",
    "\n",
    "1. **Addition:**"
   ]
  },
  {
   "cell_type": "code",
   "execution_count": 4,
   "metadata": {
    "tags": []
   },
   "outputs": [
    {
     "data": {
      "text/plain": [
       "8"
      ]
     },
     "execution_count": 4,
     "metadata": {},
     "output_type": "execute_result"
    }
   ],
   "source": [
    "result = 5 + 3\n",
    "result"
   ]
  },
  {
   "cell_type": "markdown",
   "metadata": {},
   "source": [
    "2. **Subtraction**"
   ]
  },
  {
   "cell_type": "code",
   "execution_count": 5,
   "metadata": {
    "tags": []
   },
   "outputs": [
    {
     "data": {
      "text/plain": [
       "6"
      ]
     },
     "execution_count": 5,
     "metadata": {},
     "output_type": "execute_result"
    }
   ],
   "source": [
    "result = 10 - 4\n",
    "result"
   ]
  },
  {
   "cell_type": "markdown",
   "metadata": {},
   "source": [
    "3. **Multiplication**"
   ]
  },
  {
   "cell_type": "code",
   "execution_count": 6,
   "metadata": {
    "tags": []
   },
   "outputs": [
    {
     "data": {
      "text/plain": [
       "42"
      ]
     },
     "execution_count": 6,
     "metadata": {},
     "output_type": "execute_result"
    }
   ],
   "source": [
    "result = 6 * 7\n",
    "result"
   ]
  },
  {
   "cell_type": "markdown",
   "metadata": {},
   "source": [
    "3. **Division**"
   ]
  },
  {
   "cell_type": "code",
   "execution_count": 7,
   "metadata": {
    "tags": []
   },
   "outputs": [
    {
     "data": {
      "text/plain": [
       "5.0"
      ]
     },
     "execution_count": 7,
     "metadata": {},
     "output_type": "execute_result"
    }
   ],
   "source": [
    "result = 15 / 3\n",
    "result"
   ]
  },
  {
   "cell_type": "markdown",
   "metadata": {},
   "source": [
    "4. **Mixed Operations**"
   ]
  },
  {
   "cell_type": "code",
   "execution_count": 8,
   "metadata": {
    "tags": []
   },
   "outputs": [
    {
     "data": {
      "text/plain": [
       "21.0"
      ]
     },
     "execution_count": 8,
     "metadata": {},
     "output_type": "execute_result"
    }
   ],
   "source": [
    "result = (8 * 2) + (10 / 2)\n",
    "result"
   ]
  },
  {
   "cell_type": "markdown",
   "metadata": {},
   "source": [
    "## Create a code cell to multiply and add numbers."
   ]
  },
  {
   "cell_type": "code",
   "execution_count": 9,
   "metadata": {
    "tags": []
   },
   "outputs": [
    {
     "data": {
      "text/plain": [
       "110"
      ]
     },
     "execution_count": 9,
     "metadata": {},
     "output_type": "execute_result"
    }
   ],
   "source": [
    "(10*9) + 20"
   ]
  },
  {
   "cell_type": "markdown",
   "metadata": {
    "tags": []
   },
   "source": [
    "## Create a code cell to convert minutes to hours. "
   ]
  },
  {
   "cell_type": "code",
   "execution_count": 16,
   "metadata": {
    "tags": []
   },
   "outputs": [
    {
     "name": "stdout",
     "output_type": "stream",
     "text": [
      "120 minutes is equal to 2.0 hours\n"
     ]
    }
   ],
   "source": [
    "minutes = 120\n",
    "hours = minutes / 60\n",
    "print(minutes,'minutes is equal to',hours,'hours')\n"
   ]
  },
  {
   "cell_type": "markdown",
   "metadata": {},
   "source": [
    "# Objectives\n",
    "1. **Example Usage:** Use the function to convert a specific number of minutes to hours and display the result.\n",
    "\n",
    "2. **Precision:** Ensure that the result is displayed with a reasonable level of precision (e.g., two decimal places).\n",
    "\n",
    "3. **Flexibility:** Design the code to be flexible, allowing users to input different values for minutes and obtain accurate conversions.\n",
    "\n",
    "4. **Understanding:** Gain a clear understanding of how arithmetic operations are used to convert units and express the result.\n",
    "\n",
    "5. **Documentation:** Include comments and documentation to make the code understandable and maintainable.\n",
    "\n",
    "6. **Testing:** Test the code with different input values to verify its correctness and reliability.\n",
    "\n",
    "7. **Learning Python Basics:** Practice using basic Python concepts, including functions, variables, arithmetic operations, and print statements."
   ]
  },
  {
   "cell_type": "markdown",
   "metadata": {},
   "source": [
    "# Author\n",
    "**Author:** Tukdanai Urumporn"
   ]
  },
  {
   "cell_type": "code",
   "execution_count": null,
   "metadata": {},
   "outputs": [],
   "source": []
  }
 ],
 "metadata": {
  "kernelspec": {
   "display_name": "Python",
   "language": "python",
   "name": "conda-env-python-py"
  },
  "language_info": {
   "codemirror_mode": {
    "name": "ipython",
    "version": 3
   },
   "file_extension": ".py",
   "mimetype": "text/x-python",
   "name": "python",
   "nbconvert_exporter": "python",
   "pygments_lexer": "ipython3",
   "version": "3.7.12"
  }
 },
 "nbformat": 4,
 "nbformat_minor": 4
}
